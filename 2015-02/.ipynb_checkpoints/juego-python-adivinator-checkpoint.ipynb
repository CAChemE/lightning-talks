{
 "metadata": {
  "name": "",
  "signature": "sha256:a2eca29b45c2d644b71485a5588c490596e5518566bf6d4521026f12fa75e468"
 },
 "nbformat": 3,
 "nbformat_minor": 0,
 "worksheets": [
  {
   "cells": [
    {
     "cell_type": "markdown",
     "metadata": {},
     "source": [
      "![CACheme](imgTeleOctave/logo.png \"CAChemE\")"
     ]
    },
    {
     "cell_type": "markdown",
     "metadata": {},
     "source": [
      "*David Sen\u00e9n Garc\u00eda Hurtado* ( [CAChemE](http://cacheme.org) Lightning Talk)"
     ]
    },
    {
     "cell_type": "raw",
     "metadata": {},
     "source": [
      "18.02.2015 - Licenciado bajo Creative Commons (CC-BY)"
     ]
    },
    {
     "cell_type": "heading",
     "level": 5,
     "metadata": {},
     "source": [
      "Bibliograf\u00eda:"
     ]
    },
    {
     "cell_type": "markdown",
     "metadata": {},
     "source": [
      "- youtube - https://www.youtube.com/watch?v=qQv5GnbcCjY"
     ]
    },
    {
     "cell_type": "heading",
     "level": 3,
     "metadata": {},
     "source": [
      "Python adivinator"
     ]
    },
    {
     "cell_type": "markdown",
     "metadata": {},
     "source": [
      "Una forma de aprender a usar Python de forma un poco m\u00e1s divertida consiste en crear minijuegos interactivos e ir complic\u00e1ndolos poco a poco, en lugar de estudiar directamente las funciones y sintaxis de Python de forma que se aprende pele\u00e1ndose con los errores y no memorizando. \n",
      "\n",
      "El primer c\u00f3digo se trata de un juego muy sencillo en el cual tenemos que adivinar un n\u00famero que Python ha elegido al azar.\n",
      "\n",
      "Para que el juego funcione se debe de importar librer\u00eda random, que es la que nos dar\u00e1 la posibilidad de hacer que el software elija un n\u00famero al azar en el intervalo que nosotros digamos.\n"
     ]
    },
    {
     "cell_type": "code",
     "collapsed": false,
     "input": [
      "import random \n",
      "def juego1():\n",
      "    print ('Bienvenido')\n",
      "    r=random.randrange(1,101)\n",
      "    numero_intentos=1\n",
      "    while True:\n",
      "        print ('haga su intento')\n",
      "        intento=input()\n",
      "        if int(intento) ==r:\n",
      "            break\n",
      "        if int(intento) < r:\n",
      "           print ('demasiado peque\u00f1o')\n",
      "        if int(intento) > r:\n",
      "            print ('demasiado grande')\n",
      "        numero_intentos+=1\n",
      "        \n",
      "    print ('correcto')\n",
      "    print ('numero de intentos:', numero_intentos)"
     ],
     "language": "python",
     "metadata": {},
     "outputs": [],
     "prompt_number": 1
    },
    {
     "cell_type": "markdown",
     "metadata": {},
     "source": [
      "El segundo juego consiste en que Python debe de adivinar un n\u00famero que tu has pensado, en este caso la cosa se complica un poco ya que tenemos que ir dici\u00e9ndole al programa que el n\u00famero que debe de buscar se encuentra en nuevos intervalos a los cuales se debe de ajustar seg\u00fan si nosotros le decimos que el n\u00famero que \u00e9l ha dicho es menor o mayor."
     ]
    },
    {
     "cell_type": "code",
     "collapsed": false,
     "input": [
      "import random \n",
      "def juego():\n",
      "    print ('Bienvenido')\n",
      "    print ('Piense un n\u00famero del 1 al 50')\n",
      "    input(\"Press enter to continue\") \n",
      "    numero_intentos=1\n",
      "    mayor=1;\n",
      "    menor=-1;\n",
      "    igual=0;\n",
      "    r=random.randrange(1,51);\n",
      "    print (r)\n",
      "    n=1;\n",
      "    m=50;\n",
      "    lista =[n,m];\n",
      "    while True: \n",
      "        test=input()\n",
      "        if int(test) == mayor:\n",
      "            lista.remove(lista[0]);\n",
      "            lista.insert(0,r);\n",
      "            r=random.randrange(lista[0],lista[1]);\n",
      "            print (lista)\n",
      "            print (r)\n",
      "        if int(test) == menor:\n",
      "            lista.remove(lista[1]);\n",
      "            lista.insert(1,r);\n",
      "            r=random.randrange(lista[0],lista[1]);\n",
      "            print (lista)\n",
      "            print (r)\n",
      "        if int(test) == igual:\n",
      "            break\n",
      "        numero_intentos+=1\n",
      "        \n",
      "        \n",
      "    print ('correcto')\n",
      "    print ('numero de intentos:', numero_intentos)"
     ],
     "language": "python",
     "metadata": {},
     "outputs": [],
     "prompt_number": 3
    },
    {
     "cell_type": "code",
     "collapsed": false,
     "input": [],
     "language": "python",
     "metadata": {},
     "outputs": [],
     "prompt_number": 2
    }
   ],
   "metadata": {}
  }
 ]
}