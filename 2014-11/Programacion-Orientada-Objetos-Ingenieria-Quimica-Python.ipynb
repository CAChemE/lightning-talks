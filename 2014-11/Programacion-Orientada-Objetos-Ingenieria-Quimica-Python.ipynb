{
 "metadata": {
  "name": "",
  "signature": "sha256:f576c12b7bd1de4aa46e228a1cb64a877bcc67dfbac3d50004a603fae8c9dd2f"
 },
 "nbformat": 3,
 "nbformat_minor": 0,
 "worksheets": [
  {
   "cells": [
    {
     "cell_type": "heading",
     "level": 1,
     "metadata": {},
     "source": [
      "PROGRAMACI\u00d3N ORIENTADA A OBJETOS EN PYTHON"
     ]
    },
    {
     "cell_type": "markdown",
     "metadata": {},
     "source": [
      "*Zuria Bauer Hartwig* ( [CAChemE](http://cacheme.org) Lightning Talk)"
     ]
    },
    {
     "cell_type": "raw",
     "metadata": {},
     "source": [
      "21-11-2014 - Licenciado bajo Creative Commons (CC-BY)"
     ]
    },
    {
     "cell_type": "heading",
     "level": 5,
     "metadata": {},
     "source": [
      "Bibliograf\u00eda en la que me he basado:"
     ]
    },
    {
     "cell_type": "markdown",
     "metadata": {},
     "source": [
      "*Blog RV Burke* : http://blog.rvburke.com/2006/11/22/programacion-orientada-a-objetos-en-python/\n",
      "\n",
      "*Python para principiantes* :\n",
      "http://librosweb.es/libro/python/capitulo_5.html\n"
     ]
    },
    {
     "cell_type": "markdown",
     "metadata": {},
     "source": [
      "Antes de nada, \u00bfesto sirve para algo?:"
     ]
    },
    {
     "cell_type": "code",
     "collapsed": false,
     "input": [
      "\"\"\"\n",
      "General Numerical Solver for the 1D Time-Dependent Schrodinger's equation.\n",
      "\n",
      "adapted from code at http://matplotlib.sourceforge.net/examples/animation/double_pendulum_animated.py\n",
      "\n",
      "Double pendulum formula translated from the C code at\n",
      "http://www.physics.usyd.edu.au/~wheat/dpend_html/solve_dpend.c\n",
      "\n",
      "author: Jake Vanderplas\n",
      "email: vanderplas@astro.washington.edu\n",
      "website: http://jakevdp.github.com\n",
      "license: BSD\n",
      "Please feel free to use and modify this, but keep the above information. Thanks!\n",
      "\"\"\"\n",
      "\n",
      "from numpy import sin, cos\n",
      "import numpy as np\n",
      "import matplotlib.pyplot as plt\n",
      "import scipy.integrate as integrate\n",
      "import matplotlib.animation as animation\n",
      "\n",
      "class DoublePendulum:\n",
      "    \"\"\"Double Pendulum Class\n",
      "\n",
      "    init_state is [theta1, omega1, theta2, omega2] in degrees,\n",
      "    where theta1, omega1 is the angular position and velocity of the first\n",
      "    pendulum arm, and theta2, omega2 is that of the second pendulum arm\n",
      "    \"\"\"\n",
      "    def __init__(self,\n",
      "                 init_state = [120, 0, -20, 0],\n",
      "                 L1=1.0,  # length of pendulum 1 in m\n",
      "                 L2=1.0,  # length of pendulum 2 in m\n",
      "                 M1=1.0,  # mass of pendulum 1 in kg\n",
      "                 M2=1.0,  # mass of pendulum 2 in kg\n",
      "                 G=9.8,  # acceleration due to gravity, in m/s^2\n",
      "                 origin=(0, 0)): \n",
      "        self.init_state = np.asarray(init_state, dtype='float')\n",
      "        self.params = (L1, L2, M1, M2, G)\n",
      "        self.origin = origin\n",
      "        self.time_elapsed = 0\n",
      "\n",
      "        self.state = self.init_state * np.pi / 180.\n",
      "    \n",
      "    def position(self):\n",
      "        \"\"\"compute the current x,y positions of the pendulum arms\"\"\"\n",
      "        (L1, L2, M1, M2, G) = self.params\n",
      "\n",
      "        x = np.cumsum([self.origin[0],\n",
      "                       L1 * sin(self.state[0]),\n",
      "                       L2 * sin(self.state[2])])\n",
      "        y = np.cumsum([self.origin[1],\n",
      "                       -L1 * cos(self.state[0]),\n",
      "                       -L2 * cos(self.state[2])])\n",
      "        return (x, y)\n",
      "\n",
      "    def energy(self):\n",
      "        \"\"\"compute the energy of the current state\"\"\"\n",
      "        (L1, L2, M1, M2, G) = self.params\n",
      "\n",
      "        x = np.cumsum([L1 * sin(self.state[0]),\n",
      "                       L2 * sin(self.state[2])])\n",
      "        y = np.cumsum([-L1 * cos(self.state[0]),\n",
      "                       -L2 * cos(self.state[2])])\n",
      "        vx = np.cumsum([L1 * self.state[1] * cos(self.state[0]),\n",
      "                        L2 * self.state[3] * cos(self.state[2])])\n",
      "        vy = np.cumsum([L1 * self.state[1] * sin(self.state[0]),\n",
      "                        L2 * self.state[3] * sin(self.state[2])])\n",
      "\n",
      "        U = G * (M1 * y[0] + M2 * y[1])\n",
      "        K = 0.5 * (M1 * np.dot(vx, vx) + M2 * np.dot(vy, vy))\n",
      "\n",
      "        return U + K\n",
      "\n",
      "    def dstate_dt(self, state, t):\n",
      "        \"\"\"compute the derivative of the given state\"\"\"\n",
      "        (M1, M2, L1, L2, G) = self.params\n",
      "\n",
      "        dydx = np.zeros_like(state)\n",
      "        dydx[0] = state[1]\n",
      "        dydx[2] = state[3]\n",
      "\n",
      "        cos_delta = cos(state[2] - state[0])\n",
      "        sin_delta = sin(state[2] - state[0])\n",
      "\n",
      "        den1 = (M1 + M2) * L1 - M2 * L1 * cos_delta * cos_delta\n",
      "        dydx[1] = (M2 * L1 * state[1] * state[1] * sin_delta * cos_delta\n",
      "                   + M2 * G * sin(state[2]) * cos_delta\n",
      "                   + M2 * L2 * state[3] * state[3] * sin_delta\n",
      "                   - (M1 + M2) * G * sin(state[0])) / den1\n",
      "\n",
      "        den2 = (L2 / L1) * den1\n",
      "        dydx[3] = (-M2 * L2 * state[3] * state[3] * sin_delta * cos_delta\n",
      "                   + (M1 + M2) * G * sin(state[0]) * cos_delta\n",
      "                   - (M1 + M2) * L1 * state[1] * state[1] * sin_delta\n",
      "                   - (M1 + M2) * G * sin(state[2])) / den2\n",
      "        \n",
      "        return dydx\n",
      "\n",
      "    def step(self, dt):\n",
      "        \"\"\"execute one time step of length dt and update state\"\"\"\n",
      "        self.state = integrate.odeint(self.dstate_dt, self.state, [0, dt])[1]\n",
      "        self.time_elapsed += dt\n",
      "\n",
      "#------------------------------------------------------------\n",
      "# set up initial state and global variables\n",
      "pendulum = DoublePendulum([180., 0.0, -20., 0.0])\n",
      "dt = 1./30 # 30 fps\n",
      "\n",
      "#------------------------------------------------------------\n",
      "# set up figure and animation\n",
      "fig = plt.figure()\n",
      "ax = fig.add_subplot(111, aspect='equal', autoscale_on=False,\n",
      "                     xlim=(-2, 2), ylim=(-2, 2))\n",
      "ax.grid()\n",
      "\n",
      "line, = ax.plot([], [], 'o-', lw=2)\n",
      "time_text = ax.text(0.02, 0.95, '', transform=ax.transAxes)\n",
      "energy_text = ax.text(0.02, 0.90, '', transform=ax.transAxes)\n",
      "\n",
      "def init():\n",
      "    \"\"\"initialize animation\"\"\"\n",
      "    line.set_data([], [])\n",
      "    time_text.set_text('')\n",
      "    energy_text.set_text('')\n",
      "    return line, time_text, energy_text\n",
      "\n",
      "def animate(i):\n",
      "    \"\"\"perform animation step\"\"\"\n",
      "    global pendulum, dt\n",
      "    pendulum.step(dt)\n",
      "    \n",
      "    line.set_data(*pendulum.position())\n",
      "    time_text.set_text('time = %.1f' % pendulum.time_elapsed)\n",
      "    energy_text.set_text('energy = %.3f J' % pendulum.energy())\n",
      "    return line, time_text, energy_text\n",
      "\n",
      "# choose the interval based on dt and the time to animate one step\n",
      "from time import time\n",
      "t0 = time()\n",
      "animate(0)\n",
      "t1 = time()\n",
      "interval = 1000 * dt - (t1 - t0)\n",
      "\n",
      "ani = animation.FuncAnimation(fig, animate, frames=300,\n",
      "                              interval=interval, blit=True, init_func=init)\n",
      "\n",
      "\n",
      "plt.show()"
     ],
     "language": "python",
     "metadata": {},
     "outputs": [],
     "prompt_number": 1
    },
    {
     "cell_type": "markdown",
     "metadata": {},
     "source": [
      "Ahora s\u00ed, comencemos :)"
     ]
    },
    {
     "cell_type": "heading",
     "level": 5,
     "metadata": {},
     "source": [
      "Paradigmas de programaci\u00f3n..."
     ]
    },
    {
     "cell_type": "markdown",
     "metadata": {},
     "source": [
      "Uno de los elementos b\u00e1sicos a la hora de realizar un programa \n",
      "es la modelizaci\u00f3n del problema que se quiere resolver. \n",
      "Los objetivos generales son la localizaci\u00f3n de nuestras variables \n",
      "y los aspectos importantes, \n",
      "as\u00ed como saber llevar a cabo los pasos necesarios \n",
      "para obtener el resultados a partir de los datos iniciales, etc. \n",
      "Es decir, reducimos los detalles de forma que \n",
      "trabajemos con cada vez menos elementos."
     ]
    },
    {
     "cell_type": "markdown",
     "metadata": {},
     "source": [
      "Los *paradigmas de programaci\u00f3n* son \n",
      "herramientas conceptuales para analizar, \n",
      "representar y abordar los problemas, \n",
      "presentando sistematizaciones complementarias \n",
      "para pasar del espacio de los problemas \n",
      "al de las implementaciones de una soluci\u00f3n."
     ]
    },
    {
     "cell_type": "heading",
     "level": 5,
     "metadata": {},
     "source": [
      "Algunos paradigmas habituales que conocemos los Ingenierios Qu\u00edmicos"
     ]
    },
    {
     "cell_type": "markdown",
     "metadata": {},
     "source": [
      "Hay numerosas formas de resolver los problemas, \n",
      "los m\u00e1s habituales en la Ingenier\u00eda Qu\u00edmica son:"
     ]
    },
    {
     "cell_type": "markdown",
     "metadata": {},
     "source": [
      "- La programaci\u00f3n funcional: Se puede expresar un \n",
      "    programa como una secuencia de aplicaci\u00f3n de funciones.\n",
      "    Es la forma cl\u00e1sica de trabajar con MATLAB.\n",
      "\n",
      "- La progrmaci\u00f3n orientada a objetos: Los programas se definen en t\u00e9rminos \n",
      "    de *clase de objetos* que se comunican entre s\u00ed \n",
      "    mediante el env\u00edo de mensajes. \n",
      "    Ejemplos de Lenguajes: Java, Python o C++. MATLAB tambi\u00e9n permite trabajar as\u00ed, aunque todas biblitecas son funciones (no objetos)."
     ]
    },
    {
     "cell_type": "heading",
     "level": 5,
     "metadata": {},
     "source": [
      "Programaci\u00f3n multiparadigma"
     ]
    },
    {
     "cell_type": "markdown",
     "metadata": {},
     "source": [
      "Los paradigmas son idealizaciones, y, \n",
      "como tales, \n",
      "no siempre se presentan de forma totalmente *pura*, \n",
      "ni siempre resultan incompatibles entre s\u00ed. \n",
      "Cuando se mezclan distintos paradigmas \n",
      "se produce lo que se conoce como __programaci\u00f3n multiparadigma__."
     ]
    },
    {
     "cell_type": "markdown",
     "metadata": {},
     "source": [
      "El uso de distintos modelos resulta m\u00e1s natural \n",
      "y permite expresar de forma m\u00e1s clara \n",
      "y concisa nuestras ideas."
     ]
    },
    {
     "cell_type": "markdown",
     "metadata": {},
     "source": [
      "Python se adapta muy bien a la programaci\u00f3n multiparadigma \n",
      "y dan gran libertad a la hora de resolver un problema."
     ]
    },
    {
     "cell_type": "heading",
     "level": 3,
     "metadata": {},
     "source": [
      "Conceptos b\u00e1sicos para empezar a programar con Objetos"
     ]
    },
    {
     "cell_type": "markdown",
     "metadata": {},
     "source": [
      "En Python todo es un *objeto* y debe ser tratado como tal. \n",
      "Pero... \u00bfQu\u00e9 es un objeto? \n",
      "\u00bfDe qu\u00e9 hablamos cuando nos referimos a \"orientaci\u00f3n a objetos\"?"
     ]
    },
    {
     "cell_type": "markdown",
     "metadata": {},
     "source": [
      "__Pensar en Objetos__"
     ]
    },
    {
     "cell_type": "markdown",
     "metadata": {},
     "source": [
      "__\u00bfQu\u00e9 es un objeto??__ es *simple*. \n",
      "Dando una definici\u00f3n fuera del mundo de la inform\u00e1tica:\n",
      "\n",
      "    \"Un objeto es una cosa. Y, si una cosa es un sustantivo, entonces un objeto es un sustantivo\".\n",
      "\n",
      "Sencillo, \u00bfcierto?"
     ]
    },
    {
     "cell_type": "markdown",
     "metadata": {},
     "source": [
      "__\u00bfQu\u00e9 me dec\u00eds si describimos las cualidades de un objeto?__ \n",
      "Describir un objeto es simplemente mencionar sus cualidades. Las cualidades son *Adjetivos*. \n",
      "\n",
      "Para describir *\"la manera de ser\"* de un objeto, \n",
      "debemos preguntarnos __\u00bfc\u00f3mo es el objeto?__ \n",
      "Toda respuesta que comience por *\"el objeto es\"*, \n",
      "seguida de un adjetivo, ser\u00e1 una cualidad del objeto."
     ]
    },
    {
     "cell_type": "markdown",
     "metadata": {},
     "source": [
      "__Los objetos, tamb\u00eden tienen la capacidad de hacer cosas__\n",
      "Hemos descrito las cualidad de nuestros objetos, \n",
      "pero no hemos hablado de aquellas \n",
      "cosas que los objetos *\"pueden hacer\"*, \n",
      "es decir, *\"cu\u00e1les son sus cualidades\"*.\n",
      "\n",
      "Los objetos tienen la capacidad de realizar acciones. \n",
      "Las acciones, son verbos. \n",
      "Para conocer las capacidades de un objeto debes preguntarte \n",
      "__\u00bfQu\u00e9 puede hacer el objeto?__ y la respuesta estar\u00e1 dada por \n",
      "aquellas que comiencen por la frase *\"el objeto puede\"*, \n",
      "seguido de un verbo."
     ]
    },
    {
     "cell_type": "heading",
     "level": 5,
     "metadata": {},
     "source": [
      "*La parte dif\u00edcil...*"
     ]
    },
    {
     "cell_type": "markdown",
     "metadata": {},
     "source": [
      "...es que en programaci\u00f3n todo lo que acabamos de ver, \n",
      "se denomina de una forma particular."
     ]
    },
    {
     "cell_type": "markdown",
     "metadata": {},
     "source": [
      "| Cuando en el documento... | En la programaci\u00f3n se denomina... |\n",
      "| ------------------------- | ------------------------------- |\n",
      "| Hablamos de una *cosa* (generalmente un sustantivo)   | Objeto   |\n",
      "| Hablamos de *atributos* o cualidades (generalmente un adjetivo)   | Propiedades   |\n",
      "| Hablamos de *acciones* que puede realizar el objeto (funciones)  | M\u00e9todo   |\n",
      "| Hablamos de *atributos-objeto*   | Composici\u00f3n   |\n",
      "| Vemos que los objetos relacionados entre s\u00ed, tienen nombres de atributos iguales (por ejemplo: color y tama\u00f1o) y sin embargo, pueden tener valores diferentes   | Polimorfismo   |\n",
      "| Hablamos de objetos que son sub-tipos (o ampliaci\u00f3n) de otros  | Herencia   |\n"
     ]
    },
    {
     "cell_type": "markdown",
     "metadata": {},
     "source": [
      "Teniendo claro esto, vamos a asegurarnos que el c\u00f3digo que viene a continuaci\u00f3n es compatible con Python 2 y 3. Si es tu primera vez que usas Python (y est\u00e1s usando la versi\u00f3n 3.x) puedes ignorar el siguiente c\u00f3digo."
     ]
    },
    {
     "cell_type": "code",
     "collapsed": false,
     "input": [
      "from __future__ import division, print_function, unicode_literals"
     ],
     "language": "python",
     "metadata": {},
     "outputs": [],
     "prompt_number": 2
    },
    {
     "cell_type": "heading",
     "level": 2,
     "metadata": {},
     "source": [
      "Programaci\u00f3n Orientada a Objetos"
     ]
    },
    {
     "cell_type": "markdown",
     "metadata": {},
     "source": [
      "Como hemos dicho, la Programaci\u00f3n Orientada a Objetos (POO) es un \n",
      "__paradigma de programaci\u00f3n__. \n",
      "Como tal, nos ense\u00f1a un m\u00e9todo que se basa \n",
      "en las interacciones de objetos para poder resolver nuestro sistema."
     ]
    },
    {
     "cell_type": "heading",
     "level": 5,
     "metadata": {},
     "source": [
      "Elementos y Caracter\u00edsticas de la POO"
     ]
    },
    {
     "cell_type": "markdown",
     "metadata": {},
     "source": [
      "Los __elementos__ podemos definirlos como los *materiales* \n",
      "que necesitamos para dise\u00f1ar y programar un sistema.\n",
      "Las __caracter\u00edsticas__ podr\u00edan asumirse como las *herramientas* \n",
      "de las cu\u00e1les disponemos para construir el sistema con esos materiales."
     ]
    },
    {
     "cell_type": "markdown",
     "metadata": {},
     "source": [
      "__*Elementos principales:*__"
     ]
    },
    {
     "cell_type": "markdown",
     "metadata": {},
     "source": [
      "*CLASES*"
     ]
    },
    {
     "cell_type": "markdown",
     "metadata": {},
     "source": [
      "Las __clases__ son los modelos sobre \n",
      "los cu\u00e1les se construir\u00e1n nuestros objetos.\n",
      "\n",
      "En Python una clases se define con la instrucci\u00f3n \n",
      "*class* seguida de un nombre gen\u00e9rico para el objeto:"
     ]
    },
    {
     "cell_type": "code",
     "collapsed": false,
     "input": [
      "class ReactorRFP:\n",
      "    pass"
     ],
     "language": "python",
     "metadata": {},
     "outputs": [],
     "prompt_number": 3
    },
    {
     "cell_type": "markdown",
     "metadata": {},
     "source": [
      "NOTA: El nombre de las clases se define \n",
      "en singular y se escriben en May\u00fasculas.\n",
      "La instrucci\u00f3n `pass` indica que una vez creada la clase no se haga \"nada\"."
     ]
    },
    {
     "cell_type": "markdown",
     "metadata": {},
     "source": [
      "*PROPIEDADES*"
     ]
    },
    {
     "cell_type": "markdown",
     "metadata": {},
     "source": [
      "Las propiedades son las caracter\u00edsticas del objeto. \n",
      "\u00c9stas se representan a modo de atributos y vienen a ser *par\u00e1metros* del objeto.\n",
      "Podemos asignar estos valores a la clase creada de la siguiente forma:"
     ]
    },
    {
     "cell_type": "code",
     "collapsed": false,
     "input": [
      "ReactorRFP.longitud = 12. # [m]"
     ],
     "language": "python",
     "metadata": {},
     "outputs": [],
     "prompt_number": 4
    },
    {
     "cell_type": "markdown",
     "metadata": {},
     "source": [
      "Y consultar la informaci\u00f3n con la funci\u00f3n `print`."
     ]
    },
    {
     "cell_type": "code",
     "collapsed": false,
     "input": [
      "print(ReactorRFP.longitud)"
     ],
     "language": "python",
     "metadata": {},
     "outputs": [
      {
       "output_type": "stream",
       "stream": "stdout",
       "text": [
        "12.0\n"
       ]
      }
     ],
     "prompt_number": 5
    },
    {
     "cell_type": "markdown",
     "metadata": {},
     "source": [
      "Otra forma a\u00f1adir esta informaci\u00f3na  la clase es en el momento de su creaci\u00f3n:"
     ]
    },
    {
     "cell_type": "code",
     "collapsed": false,
     "input": [
      "class ReactorRFP:\n",
      "    longitud = 12. # [m]\n",
      "    diametro_tubo = 2e-2 # [m]\n",
      "    temperatura_refrigeracion = 15. # [\u00baC]"
     ],
     "language": "python",
     "metadata": {},
     "outputs": [],
     "prompt_number": 6
    },
    {
     "cell_type": "markdown",
     "metadata": {},
     "source": [
      "*M\u00c9TODOS*"
     ]
    },
    {
     "cell_type": "markdown",
     "metadata": {},
     "source": [
      "Los m\u00e9todos son *funciones* dentro de una clase y pueden representar acciones \n",
      "propias que puede realizar el objeto (y otro no):"
     ]
    },
    {
     "cell_type": "code",
     "collapsed": false,
     "input": [
      "class ReactorRFP:\n",
      "    \"\"\"Clase de Reactor de flujo pist\u00f3n\"\"\"\n",
      "    \n",
      "    longitud = 12 # [L]\n",
      "    diametro_tubo = 2e-2 # [m]\n",
      "    temperatura_refrigeracion = 15 # [\u00baC]\n",
      "    \n",
      "    def ec_dif_BM (self, dndL, L):\n",
      "        dndL = 0 #de momento no compliquemos el c\u00f3digo :)\n",
      "        return dndL"
     ],
     "language": "python",
     "metadata": {},
     "outputs": [],
     "prompt_number": 7
    },
    {
     "cell_type": "markdown",
     "metadata": {},
     "source": [
      "NOTA: El primer par\u00e1metro de un m\u00e9todo SIEMPRE debe ser *self*. \n",
      "Explicaremos en el Vol.2 de las Lightning Talks \n",
      "de CAChemE su significado y utilidad."
     ]
    },
    {
     "cell_type": "markdown",
     "metadata": {},
     "source": [
      "*OBJETO*"
     ]
    },
    {
     "cell_type": "markdown",
     "metadata": {},
     "source": [
      "Las clases por s\u00ed mismas, \n",
      "no son m\u00e1s que modelos que nos sirven para crear objetos en concreto. \n",
      "A la acci\u00f3n de crear objetos se le llama \n",
      "*instanciar una clase*, \n",
      "consiste en asignar la clase como valor a una variable. Ahora bien, en Python \"todo son objetos\" por lo que puedo crear otro clase con el componente de agua"
     ]
    },
    {
     "cell_type": "code",
     "collapsed": false,
     "input": [
      "class H2O:\n",
      "    MW = 18 # [kg/kmol] Peso molecular\n",
      "    densidad = 1000 # [kg/m^3] densidad\n",
      "\n",
      "class ReactorRFP:\n",
      "    \"\"\"Clase de Reactor de flujo pist\u00f3n\"\"\"\n",
      "    \n",
      "    longitud = 12 # [L]\n",
      "    diametro_tubo = 2e-2 # [m]\n",
      "    temperatura_refrigeracion = 15 # [\u00baC]\n",
      "    \n",
      "    # C\u00f3digo nuevo empieza aqu\u00ed\n",
      "    reactivo_A = H2O()\n",
      "    \n",
      "    def ec_dif_BM (self, dndL, L):\n",
      "        dndL = 0 # de momento no compliquemos el c\u00f3digo :)\n",
      "        return dndL  "
     ],
     "language": "python",
     "metadata": {},
     "outputs": [],
     "prompt_number": 8
    },
    {
     "cell_type": "heading",
     "level": 5,
     "metadata": {},
     "source": [
      "*HERENCIA: Caracter\u00edstica Principal*"
     ]
    },
    {
     "cell_type": "markdown",
     "metadata": {},
     "source": [
      "Como se ha comentado anteriormente, \n",
      "algunos objetos comparten las mismas propiedades \n",
      "y m\u00e9todos que otro objeto, \n",
      "y adem\u00e1s agregan nuevas propiedades y m\u00e9todos. \n",
      "A esto se le denomina herencia: \n",
      "una clase que hereda de otra."
     ]
    },
    {
     "cell_type": "markdown",
     "metadata": {},
     "source": [
      "NOTA: Cuando una clase no hereda de ninguna otra, \n",
      "debe hacerse heredar de object, \n",
      "que es la clase principal de Python, \n",
      "que define un objeto.\n",
      "Volvemos a crear las clases de forma \"m\u00e1s\" correcta:"
     ]
    },
    {
     "cell_type": "code",
     "collapsed": false,
     "input": [
      "class H2O(object):\n",
      "    MW = 18 # [kg/kmol] Peso molecular\n",
      "    densidad = 1000 # [kg/m^3] densidad\n",
      "\n",
      "class ReactorRFP(object):\n",
      "    \"\"\"Clase de Reactor de flujo pist\u00f3n\"\"\"\n",
      "    \n",
      "    longitud = 12 # [L]\n",
      "    diametro_tubo = 2e-2 # [m]\n",
      "    temperatura_refrigeracion = 15 # [\u00baC]\n",
      "    \n",
      "    # C\u00f3digo nuevo empieza aqu\u00ed\n",
      "    reactivo_A = H2O()\n",
      "    \n",
      "    def ec_dif_BM (self, dndL, L):\n",
      "        dndL = 0 # de momento no compliquemos el c\u00f3digo :)\n",
      "        return dndL  "
     ],
     "language": "python",
     "metadata": {},
     "outputs": [],
     "prompt_number": 9
    },
    {
     "cell_type": "markdown",
     "metadata": {},
     "source": [
      "Ahora, veamos un ejemplo de herencia:"
     ]
    },
    {
     "cell_type": "code",
     "collapsed": false,
     "input": [
      "class RFP_multitubo(ReactorRFP):\n",
      "    n_tubos = 5 # n\u00ba de tubos\n",
      "    diametro_tubo = 1e-3 # [m]"
     ],
     "language": "python",
     "metadata": {},
     "outputs": [],
     "prompt_number": 10
    },
    {
     "cell_type": "markdown",
     "metadata": {},
     "source": [
      "Acabamos de crear una nueva clase heredando la informaci\u00f3n del ReactorRFP general. Veamos que informaci\u00f3n tiene nuestro nueva clase."
     ]
    },
    {
     "cell_type": "code",
     "collapsed": false,
     "input": [
      "print(RFP_multitubo.diametro_tubo) "
     ],
     "language": "python",
     "metadata": {},
     "outputs": [
      {
       "output_type": "stream",
       "stream": "stdout",
       "text": [
        "0.001\n"
       ]
      }
     ],
     "prompt_number": 11
    },
    {
     "cell_type": "code",
     "collapsed": false,
     "input": [
      "print(ReactorRFP.diametro_tubo) "
     ],
     "language": "python",
     "metadata": {},
     "outputs": [
      {
       "output_type": "stream",
       "stream": "stdout",
       "text": [
        "0.02\n"
       ]
      }
     ],
     "prompt_number": 12
    },
    {
     "cell_type": "code",
     "collapsed": false,
     "input": [
      "print(RFP_multitubo.n_tubos) "
     ],
     "language": "python",
     "metadata": {},
     "outputs": [
      {
       "output_type": "stream",
       "stream": "stdout",
       "text": [
        "5\n"
       ]
      }
     ],
     "prompt_number": 13
    },
    {
     "cell_type": "code",
     "collapsed": false,
     "input": [
      "print(ReactorRFP.n_tubos) "
     ],
     "language": "python",
     "metadata": {},
     "outputs": [
      {
       "ename": "AttributeError",
       "evalue": "type object 'ReactorRFP' has no attribute 'n_tubos'",
       "output_type": "pyerr",
       "traceback": [
        "\u001b[1;31m---------------------------------------------------------------------------\u001b[0m\n\u001b[1;31mAttributeError\u001b[0m                            Traceback (most recent call last)",
        "\u001b[1;32m<ipython-input-14-fd384f6efef1>\u001b[0m in \u001b[0;36m<module>\u001b[1;34m()\u001b[0m\n\u001b[1;32m----> 1\u001b[1;33m \u001b[1;32mprint\u001b[0m\u001b[1;33m(\u001b[0m\u001b[0mReactorRFP\u001b[0m\u001b[1;33m.\u001b[0m\u001b[0mn_tubos\u001b[0m\u001b[1;33m)\u001b[0m\u001b[1;33m\u001b[0m\u001b[0m\n\u001b[0m",
        "\u001b[1;31mAttributeError\u001b[0m: type object 'ReactorRFP' has no attribute 'n_tubos'"
       ]
      }
     ],
     "prompt_number": 14
    },
    {
     "cell_type": "heading",
     "level": 5,
     "metadata": {},
     "source": [
      "Accediendo a los m\u00e9todos y propiedades de un objeto"
     ]
    },
    {
     "cell_type": "markdown",
     "metadata": {},
     "source": [
      "A pesar de haberlo utilizado aqu\u00ed arriba,\n",
      "veamos como podemos obtener informaci\u00f3n de nuestro programa.\n",
      "Una vez hemos creado un objeto, \n",
      "es posible acceder a su m\u00e9todo y propiedades. \n",
      "Para ello, Python utiliza una sintaxis muy simple: \n",
      "el nombre del objeto, seguido de punto \n",
      "y la propiedad o m\u00e9todo al cu\u00e1l se desea acceder:"
     ]
    },
    {
     "cell_type": "raw",
     "metadata": {},
     "source": [
      "objeto = MiClase()\n",
      "print (objeto.propiedad)\n",
      "objeto.otra_propiedad = \"Nuevo valor\"\n",
      "variable = objeto.metodo()\n",
      "print (variable)\n",
      "print (objeto.otro_metodo())"
     ]
    },
    {
     "cell_type": "markdown",
     "metadata": {},
     "source": [
      "NOTA: Es un esquema de como acceder a un m\u00e9todo \n",
      "y sus propiedades, ya que ninguno de estos se encuentra creado, \n",
      "si lo ejecutamos obtenemos error."
     ]
    },
    {
     "cell_type": "heading",
     "level": 5,
     "metadata": {},
     "source": [
      "Ejemplo aplicado a la Ingenier\u00eda Qu\u00edmica"
     ]
    },
    {
     "cell_type": "code",
     "collapsed": false,
     "input": [
      "class RFP(object):\n",
      "    caudal = 400\n",
      "    longitud = 12\n",
      "    diametro = 2\n",
      "    temperatura_refrigeracion = 15\n",
      "    alfa = [[-1, -1, 1],[-1, -1, 0]]\n",
      "    energia_activacion = 125300\n",
      "    entalpia_referencia = [-11000, -12000]\n",
      "    r = 8.314\n",
      "    \n",
      "    def __init__(self, temperatura):\n",
      "        self.temperatura = temperatura\n",
      "    \n",
      "    def Cp_A(self):\n",
      "        return 10 + 0.1 * self.temperatura + 0.01 * self.temperatura ** 2.0\n",
      " \n",
      "et = RFP(32)\n",
      "print ('La longitud del reactor es de (m):', et.longitud)\n",
      "print ('El di\u00e1metro del reactor es de (m):', et.diametro)\n",
      "print ('La temperatura de refrigeraci\u00f3n es de (\u00baC):', et.temperatura_refrigeracion)\n",
      "print ('El valor de alfa es de:', et.alfa)\n",
      "print ('La capacidad calor\u00edfica da:', et.Cp_A())"
     ],
     "language": "python",
     "metadata": {},
     "outputs": []
    },
    {
     "cell_type": "code",
     "collapsed": false,
     "input": [
      "class NuevoRFP(RFP):\n",
      "    longitud = 10\n",
      "\n",
      "et = NuevoRFP(32)\n",
      "print ('La longitud del reactor es de (m):', et.longitud)\n",
      "print ('El di\u00e1metro del reactor es de (m):', et.diametro)\n",
      "print ('La temperatura de refrigeraci\u00f3n es de (\u00baC):', et.temperatura_refrigeracion)\n",
      "print ('El valor de alfa es de:', et.alfa)\n",
      "print ('La capacidad calor\u00edfica da:', et.Cp_A())"
     ],
     "language": "python",
     "metadata": {},
     "outputs": []
    },
    {
     "cell_type": "code",
     "collapsed": false,
     "input": [],
     "language": "python",
     "metadata": {},
     "outputs": []
    }
   ],
   "metadata": {}
  }
 ]
}